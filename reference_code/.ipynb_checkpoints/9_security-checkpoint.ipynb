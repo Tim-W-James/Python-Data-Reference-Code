{
 "cells": [
  {
   "cell_type": "code",
   "execution_count": 1,
   "metadata": {},
   "outputs": [],
   "source": [
    "import numpy as np\n",
    "import pandas as pd\n",
    "import random\n",
    "import hashlib as hl # hash library\n",
    "import itertools"
   ]
  },
  {
   "cell_type": "markdown",
   "metadata": {},
   "source": [
    "### RSA (Asymmetric):"
   ]
  },
  {
   "cell_type": "code",
   "execution_count": 22,
   "metadata": {},
   "outputs": [],
   "source": [
    "# RSA algorithm (derived from lab10/11)\n",
    "def are_relatively_prime(a, b):\n",
    "    \"\"\"Return ``True`` if ``a`` and ``b`` are two relatively prime numbers.\n",
    "\n",
    "    Two numbers are relatively prime if they share no common factors,\n",
    "    i.e. there is no integer (except 1) that divides both.\n",
    "    \"\"\"\n",
    "    for n in range(2, min(a, b) + 1):\n",
    "        if a % n == b % n == 0:\n",
    "            return False\n",
    "    return True\n",
    "\n",
    "def generate_key_pair(p,q):\n",
    "    # Calculate N = p*q and r = (p-1)(q-1)\n",
    "    N = p*q \n",
    "    r = (p-1)*(q-1) \n",
    "    \n",
    "    # choose a random number e such that e < N and e and R share no common factors.\n",
    "    for cand in range(3, r, 2):\n",
    "        if are_relatively_prime(cand, r):\n",
    "            e = cand\n",
    "            break\n",
    "            \n",
    "    # calculate number d, such that ed mod (r) = 1\n",
    "    d = 0\n",
    "    for cand in range(3, r, 2):\n",
    "        if cand * e % r == 1:\n",
    "            d = cand\n",
    "            break     \n",
    "    \n",
    "    # return public key and private key pairs.\n",
    "    public_key = (N,e)\n",
    "    private_key = (N,d)\n",
    "    return public_key, private_key\n",
    "\n",
    "def encrypt(public_key, message):\n",
    "    # encrypt the given message with the public key\n",
    "    return pow(message,public_key[1]) % public_key[0]\n",
    "\n",
    "def encryptString(public_key, message):\n",
    "    # encrypt the given message with the public key\n",
    "    n, key = public_key\n",
    "    return [pow(ord(char),key,n) for char in message]\n",
    "\n",
    "def decrypt(private_key, message):\n",
    "    # retrieve the original message\n",
    "    return pow(message,private_key[1]) % private_key[0]\n",
    "\n",
    "def decryptString(private_key, message):\n",
    "    # retrieve the original message from the encryoted message with you\n",
    "    n, key = private_key\n",
    "    return  ''.join([chr(pow(char, key, n)) for char in message])"
   ]
  },
  {
   "cell_type": "code",
   "execution_count": 23,
   "metadata": {},
   "outputs": [
    {
     "name": "stdout",
     "output_type": "stream",
     "text": [
      "public key is (55, 3), private key is (55, 27)\n",
      "message: 32\n",
      "encrypted message: 43\n",
      "decrypted message: 32\n"
     ]
    }
   ],
   "source": [
    "# test cases\n",
    "p = 5\n",
    "q = 11\n",
    "msg = random.randint(1,p*q)\n",
    "public_key, private_key = generate_key_pair(5,11)\n",
    "print ('public key is {}, private key is {}'.format(public_key, private_key) )\n",
    "print ('message: {}'.format(msg))\n",
    "print ('encrypted message: {}'.format(encrypt(public_key,msg)))\n",
    "print ('decrypted message: {}'.format(decrypt(private_key,encrypt(public_key,msg) )))"
   ]
  },
  {
   "cell_type": "markdown",
   "metadata": {},
   "source": [
    "### Diffie-Helman:"
   ]
  },
  {
   "cell_type": "code",
   "execution_count": 27,
   "metadata": {},
   "outputs": [],
   "source": [
    "# derived from lab10\n",
    "class Person:\n",
    "    def __init__(self,p,g):\n",
    "        self.p = p\n",
    "        self.g = g\n",
    "        self.my_secrete_number = random.randint(1,10)\n",
    "        self.others_secrete_number = 0\n",
    "        \n",
    "    def tell(self, person):\n",
    "        person.others_secrete_number = self.compute_number_to_share()\n",
    "    \n",
    "    def compute_number_to_share(self):\n",
    "        return pow(self.g, self.my_secrete_number) % self.p\n",
    "    \n",
    "    def get_common_key(self):\n",
    "        return pow(self.others_secrete_number, self.my_secrete_number) % self.p"
   ]
  },
  {
   "cell_type": "code",
   "execution_count": 28,
   "metadata": {},
   "outputs": [
    {
     "name": "stdout",
     "output_type": "stream",
     "text": [
      "Alice's key is: 19\n",
      "Bob's key is: 19\n"
     ]
    }
   ],
   "source": [
    "prime_number = 23\n",
    "generator = 11\n",
    "\n",
    "Alice = Person(prime_number,generator)\n",
    "Bob = Person(prime_number,generator)\n",
    "\n",
    "Alice.tell(Bob)\n",
    "Bob.tell(Alice)\n",
    "\n",
    "print(\"Alice's key is: {}\".format(Alice.get_common_key()))\n",
    "print(\"Bob's key is: {}\".format(Bob.get_common_key()))"
   ]
  },
  {
   "cell_type": "markdown",
   "metadata": {},
   "source": [
    "### Hashing via hashlib"
   ]
  },
  {
   "cell_type": "code",
   "execution_count": 3,
   "metadata": {},
   "outputs": [
    {
     "name": "stdout",
     "output_type": "stream",
     "text": [
      "md5: 0af57bc31c06d32bb81e6c7171a1e51e\n",
      "sha: db44d7adb45d2edaffd11d29d1f83a44308c26978a76f6d13ba99c28fbccfe53\n",
      "blake2b: a13c9bff609acfac9225e0301b8dcbedd3715b29c6f5391a774dbda75997359f1ec45cda7fa63d1b88ab914bdc019717d39927d1f34cd2e17fa9fceee7e31759\n"
     ]
    }
   ],
   "source": [
    "message = 'this is a short test string'\n",
    "md5_hash = hl.md5(message.encode(\"UTF-8\")).hexdigest()\n",
    "sha_hash = hl.sha256(message.encode(\"UTF-8\")).hexdigest()\n",
    "blake2b = hl.blake2b(message.encode(\"UTF-8\")).hexdigest()\n",
    "\n",
    "print (f\"md5: {md5_hash}\")\n",
    "print (f\"sha: {sha_hash}\")\n",
    "print (f\"blake2b: {blake2b}\")"
   ]
  },
  {
   "cell_type": "markdown",
   "metadata": {},
   "source": [
    "### Determine Hash Properties:\n",
    "- Collision Resistance - It should be computationally infeasible to find two different messages that hash to the same value. That is:\n",
    "```\n",
    "M = Message\n",
    "M' = Another Message\n",
    "M != M' (Messages are not the same)\n",
    "H() = Hash Function \n",
    "H(M) != H(M')\n",
    "```\n",
    "If `H(M) == H(M')`, it is possible to falseify the hash. Obviously, not a good thing!\n",
    "- Pre-image resistance - It should be computationally infeasible to determine the original message `M` given a hash function `H() `and a hashed message `H(M)`. Also known as _onewayness_\n",
    "- 2nd-pre-image resistance - Given the knowledge of a hash function `H()` and a message `M`, it should be computationally infeasible to find another message `M'` that will hash to the same value.\n",
    "- A small change in the original message should yield a large change in the resulting hash so it seems unrelated completely to a similar message.\n",
    "\n"
   ]
  },
  {
   "cell_type": "code",
   "execution_count": 9,
   "metadata": {},
   "outputs": [
    {
     "name": "stdout",
     "output_type": "stream",
     "text": [
      "md5:\n",
      "Determinisitc: True\n",
      "\n",
      "Collision resistant: True\n",
      "\n",
      "Non-Variable Length: True\n",
      "\n",
      "Minor change in M = major change in H(M):\n",
      "'a' -> 0cc175b9c0f1b6a831c399e269772661\n",
      "'b' -> 92eb5ffee6ae2fec3ad71c777531578f\n",
      "'this is a short test string' -> 0af57bc31c06d32bb81e6c7171a1e51e\n",
      "'this is a short test strinh' -> 895fd8c671a36c461a8d05083c7d59c8\n",
      "'this is also a short test string' -> 5029f2d358cbc7f2416cffb5dacf217f\n",
      "\n",
      "sha256:\n",
      "Determinisitc: True\n",
      "\n",
      "Collision resistant: True\n",
      "\n",
      "Non-Variable Length: True\n",
      "\n",
      "Minor change in M = major change in H(M):\n",
      "'a' -> ca978112ca1bbdcafac231b39a23dc4da786eff8147c4e72b9807785afee48bb\n",
      "'b' -> 3e23e8160039594a33894f6564e1b1348bbd7a0088d42c4acb73eeaed59c009d\n",
      "'this is a short test string' -> db44d7adb45d2edaffd11d29d1f83a44308c26978a76f6d13ba99c28fbccfe53\n",
      "'this is a short test strinh' -> 6df7736334004230781da87f913ba89a0d91d72890e4b85ed332acbb567714e4\n",
      "'this is also a short test string' -> b884f93484d5716b9b5d40489858dabacac3dcb3b7e84e376cad72156bb18b43\n",
      "\n",
      "blake2b:\n",
      "Determinisitc: True\n",
      "\n",
      "Collision resistant: True\n",
      "\n",
      "Non-Variable Length: True\n",
      "\n",
      "Minor change in M = major change in H(M):\n",
      "'a' -> 333fcb4ee1aa7c115355ec66ceac917c8bfd815bf7587d325aec1864edd24e34d5abe2c6b1b5ee3face62fed78dbef802f2a85cb91d455a8f5249d330853cb3c\n",
      "'b' -> c029c24b2c89db037fbf8b04930569fd8422f7c0d62f36c8dae35d03332139e546a1126f6c75be43685598f48cefff1d05a3c74d804fcd5c0a53734cfb0bb862\n",
      "'this is a short test string' -> a13c9bff609acfac9225e0301b8dcbedd3715b29c6f5391a774dbda75997359f1ec45cda7fa63d1b88ab914bdc019717d39927d1f34cd2e17fa9fceee7e31759\n",
      "'this is a short test strinh' -> 8759f10d33ae49f2f94ad952a60fc45458d1fd121eb91db5a59288f01350569ce1652fb16c3441f3e452948ec34f8e334ea954e2f028b3a06ad23ddb29361598\n",
      "'this is also a short test string' -> 3bd4b110343acb2893f2429bb3be5aa9c947564338c43f7e0d9f0c6186c4e578bc7a95e481eead1fc98ef257f8685ae686e5511951001399df84e5e42a51f4c5\n",
      "\n"
     ]
    }
   ],
   "source": [
    "# Your code here\n",
    "# determine if a hash function is deterministic, collision resistant and pre-image resistant\n",
    "# dpeth is max length of strings to check\n",
    "def hashProperties(hashFunction, depth = 3):\n",
    "    message1 = \"this is a short test string\"     \n",
    "    message2 = \"this is a short test strinh\"\n",
    "    message3 = \"this is also a short test string\"\n",
    "    \n",
    "    # check if deterministic   \n",
    "    h1 = hashFunction(message1)\n",
    "    h2 = hashFunction(message1)    \n",
    "    print(f\"Determinisitc: {h1 == h2}\\n\")\n",
    "    \n",
    "    # check if collision resistant\n",
    "    allStrings = []\n",
    "    for x in range(1, depth+1): # find all possible lowercase strings of length <= depth\n",
    "        allStrings.extend(itertools.product([chr(c) for c in range(97,123)], repeat = x))\n",
    "    allHashes = [hashFunction(\"\".join(map(str,m))) for m in allStrings]    \n",
    "    print(f\"Collision resistant: {len(allHashes) == len(set(allHashes))}\\n\")\n",
    "    \n",
    "    # pre-image\n",
    "        \n",
    "    # length\n",
    "    # check if hash length is equal between two different strings\n",
    "    isLengthConst = len(hashFunction(message1)) == len(hashFunction(message3))\n",
    "    # check hash length is equal for all possible lowercase strings of length <= depth\n",
    "    for h in allHashes:\n",
    "        if (len(h) != len(allHashes[0])):\n",
    "            isLengthConst = False\n",
    "            break\n",
    "    print(f\"Non-Variable Length: {isLengthConst}\\n\")\n",
    "    \n",
    "    \n",
    "    # hashing different messages\n",
    "    print(\"Minor change in M = major change in H(M):\")\n",
    "    print(f\"'a' -> {hashFunction('a')}\")\n",
    "    print(f\"'b' -> {hashFunction('b')}\")\n",
    "    print(f\"'{message1}' -> {hashFunction(message1)}\")\n",
    "    print(f\"'{message2}' -> {hashFunction(message2)}\")\n",
    "    print(f\"'{message3}' -> {hashFunction(message3)}\\n\")\n",
    "\n",
    "# convert a hashLib hash to a simple function that takes a message and returns the hash\n",
    "def hashLibToFunction(hashLib):\n",
    "    def returnFunction(message):\n",
    "        hashFunction = hashLib.copy()\n",
    "        hashFunction.update(message.encode(\"UTF-8\"))\n",
    "        return hashFunction.hexdigest()\n",
    "    return returnFunction\n",
    "\n",
    "# examples\n",
    "print(\"md5:\")\n",
    "hashProperties(hashLibToFunction(hl.md5()))\n",
    "print(\"sha256:\")\n",
    "hashProperties(hashLibToFunction(hl.sha256()))\n",
    "print(\"blake2b:\")\n",
    "hashProperties(hashLibToFunction(hl.blake2b()))"
   ]
  },
  {
   "cell_type": "markdown",
   "metadata": {},
   "source": [
    "### Digital Signatures:"
   ]
  },
  {
   "cell_type": "code",
   "execution_count": 25,
   "metadata": {},
   "outputs": [
    {
     "name": "stdout",
     "output_type": "stream",
     "text": [
      "True\n"
     ]
    }
   ],
   "source": [
    "# gets primes in range (derived from lab11)\n",
    "def get_primes(start, stop):\n",
    "    \"\"\"Return a list of prime numbers in ``range(start, stop)``.\"\"\"\n",
    "    if start >= stop:\n",
    "        return []\n",
    "    primes = [2]\n",
    "    for n in range(3, stop + 1, 2):\n",
    "        for p in primes:\n",
    "            if n % p == 0:\n",
    "                break\n",
    "        else:\n",
    "            primes.append(n)\n",
    "    while primes and primes[0] < start:\n",
    "        del primes[0]\n",
    "    return primes\n",
    "\n",
    "message = \"super secret test message\"\n",
    "\n",
    "# generate keys\n",
    "primes_candidates = get_primes(1000,9999)\n",
    "p = random.choice(primes_candidates)\n",
    "q = random.choice(primes_candidates)\n",
    "public_key, private_key = generate_key_pair(p,q)\n",
    "\n",
    "# compute hash\n",
    "def hashFunction(message):\n",
    "    hashed = hl.sha256(message.encode(\"UTF-8\")).hexdigest()\n",
    "    return hashed\n",
    "hashedMessage = hashFunction(message)\n",
    "\n",
    "# sign hash with private key\n",
    "signature = encryptString(private_key, hashedMessage)\n",
    "\n",
    "# signature verification\n",
    "result = decryptString(public_key, signature)\n",
    "print(hashedMessage == result)"
   ]
  },
  {
   "cell_type": "code",
   "execution_count": null,
   "metadata": {},
   "outputs": [],
   "source": []
  }
 ],
 "metadata": {
  "kernelspec": {
   "display_name": "Python 3",
   "language": "python",
   "name": "python3"
  },
  "language_info": {
   "codemirror_mode": {
    "name": "ipython",
    "version": 3
   },
   "file_extension": ".py",
   "mimetype": "text/x-python",
   "name": "python",
   "nbconvert_exporter": "python",
   "pygments_lexer": "ipython3",
   "version": "3.8.5"
  }
 },
 "nbformat": 4,
 "nbformat_minor": 4
}
