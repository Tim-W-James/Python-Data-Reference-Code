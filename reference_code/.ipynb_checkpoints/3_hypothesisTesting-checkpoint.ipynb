{
 "cells": [
  {
   "cell_type": "code",
   "execution_count": 1,
   "metadata": {},
   "outputs": [],
   "source": [
    "# Common Imports\n",
    "import numpy as np\n",
    "import pandas as pd\n",
    "from scipy import stats\n",
    "import matplotlib.pyplot as plt\n",
    "from matplotlib import cm\n",
    "import seaborn as sns\n",
    "%matplotlib inline\n",
    "# JUST TO MAKE SURE SOME WARNINGS ARE IGNORED \n",
    "import warnings\n",
    "warnings.filterwarnings(\"ignore\")\n",
    "\n",
    "# read from csv\n",
    "exampleData = pd.read_csv(\n",
    "    filepath_or_buffer=\"./data/IRIS.csv\",\n",
    "    delimiter=\",\")"
   ]
  },
  {
   "cell_type": "markdown",
   "metadata": {},
   "source": [
    "### Independent Test:\n",
    "\n",
    "\n",
    "$H_0$: sepal length is equivalent between setosa and versicolor,\n",
    "$H_A$: sepal length differs dependent on whether the flower was setosa or versicolor"
   ]
  },
  {
   "cell_type": "code",
   "execution_count": 8,
   "metadata": {},
   "outputs": [
    {
     "name": "stdout",
     "output_type": "stream",
     "text": [
      "p-value: 5.885875261871143e-08\n"
     ]
    }
   ],
   "source": [
    "# split data\n",
    "setosa = exampleData[exampleData[\"species\"]==\"Iris-setosa\"][\"sepal_length\"]\n",
    "versicolor = exampleData[exampleData[\"species\"]!=\"Iris-versicolor\"][\"sepal_length\"]\n",
    "\n",
    "# test data\n",
    "t,p = stats.ttest_ind(setosa, versicolor)\n",
    "print(\"p-value:\", p)"
   ]
  },
  {
   "cell_type": "markdown",
   "metadata": {},
   "source": [
    "p < 0.05 so we reject $H_0$ and accept $H_A$"
   ]
  },
  {
   "cell_type": "markdown",
   "metadata": {},
   "source": [
    "### Related Test:\n",
    "\n",
    "$H_0$: sepal length and petal length are equivalent,\n",
    "$H_A$: there is a significant difference between sepal length and petal length"
   ]
  },
  {
   "cell_type": "code",
   "execution_count": 16,
   "metadata": {},
   "outputs": [
    {
     "name": "stdout",
     "output_type": "stream",
     "text": [
      "p-value: 1.715652738911992e-50\n"
     ]
    }
   ],
   "source": [
    "t,p = stats.ttest_rel(exampleData[\"sepal_length\"], exampleData[\"petal_length\"])\n",
    "print(\"p-value:\", p)"
   ]
  },
  {
   "cell_type": "markdown",
   "metadata": {},
   "source": [
    "p < 0.05 so we reject $H_0$ and accept $H_A$"
   ]
  },
  {
   "cell_type": "markdown",
   "metadata": {},
   "source": [
    "### Mean Test:\n",
    "\n",
    "$H_0$: average sepal length of flowers is 5.8\n",
    "$H_A$: average sepal length of flower is significantly different from 5.8"
   ]
  },
  {
   "cell_type": "code",
   "execution_count": 17,
   "metadata": {},
   "outputs": [
    {
     "name": "stdout",
     "output_type": "stream",
     "text": [
      "p-value: 0.5225602746220779\n",
      "actual mean:  5.843333333333335\n"
     ]
    }
   ],
   "source": [
    "t,p = stats.ttest_1samp(exampleData[\"sepal_length\"], 5.8)\n",
    "print(\"p-value:\", p)\n",
    "print(\"actual mean: \", exampleData[\"sepal_length\"].mean())"
   ]
  },
  {
   "cell_type": "markdown",
   "metadata": {},
   "source": [
    "p > 0.05 so we do not reject $H_0$"
   ]
  }
 ],
 "metadata": {
  "kernelspec": {
   "display_name": "Python 3",
   "language": "python",
   "name": "python3"
  },
  "language_info": {
   "codemirror_mode": {
    "name": "ipython",
    "version": 3
   },
   "file_extension": ".py",
   "mimetype": "text/x-python",
   "name": "python",
   "nbconvert_exporter": "python",
   "pygments_lexer": "ipython3",
   "version": "3.8.5"
  }
 },
 "nbformat": 4,
 "nbformat_minor": 4
}
