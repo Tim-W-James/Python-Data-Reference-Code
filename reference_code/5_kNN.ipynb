{
 "cells": [
  {
   "cell_type": "code",
   "execution_count": 2,
   "metadata": {},
   "outputs": [],
   "source": [
    "# Common Imports\n",
    "import numpy as np\n",
    "import pandas as pd\n",
    "from scipy import stats\n",
    "import matplotlib.pyplot as plt\n",
    "from matplotlib import cm\n",
    "import seaborn as sns\n",
    "%matplotlib inline\n",
    "# JUST TO MAKE SURE SOME WARNINGS ARE IGNORED \n",
    "import warnings\n",
    "warnings.filterwarnings(\"ignore\")\n",
    "from sklearn.linear_model import LogisticRegression     # Logistic Regression\n",
    "from sklearn.neighbors import KNeighborsClassifier      # k-Nearest Neighbours\n",
    "from sklearn.preprocessing import LabelEncoder          # encooding variables\n",
    "from sklearn.preprocessing import StandardScaler        # encooding variables\n",
    "from sklearn.model_selection import train_test_split    # testing our models\n",
    "from sklearn.metrics import confusion_matrix            # scoring\n",
    "from sklearn.metrics import plot_confusion_matrix       # scoring plot\n",
    "\n",
    "# read from csv\n",
    "exampleData = pd.read_csv(\n",
    "    filepath_or_buffer=\"./data/IRIS.csv\",\n",
    "    delimiter=\",\")"
   ]
  },
  {
   "cell_type": "markdown",
   "metadata": {},
   "source": [
    "### K-Nearest Neightbor:"
   ]
  },
  {
   "cell_type": "code",
   "execution_count": 3,
   "metadata": {},
   "outputs": [
    {
     "name": "stdout",
     "output_type": "stream",
     "text": [
      "Train score:  0.9833333333333333\n",
      "Test score:  0.9333333333333333\n",
      "[1]\n",
      "[0]\n"
     ]
    }
   ],
   "source": [
    "# encode species\n",
    "exampleData[\"species\"] = pd.factorize(exampleData[\"species\"])[0]\n",
    "\n",
    "# split\n",
    "train, test = train_test_split(exampleData, test_size=0.2)\n",
    "\n",
    "# scale to mean of 0 and variance of 1\n",
    "ss = StandardScaler()\n",
    "ss.fit(train)\n",
    "train_scaled = ss.transform(train)\n",
    "test_scaled = ss.transform(test)\n",
    "\n",
    "train_scaled = pd.DataFrame(train_scaled, columns=train.keys())\n",
    "test_scaled = pd.DataFrame(test_scaled, columns=test.keys())\n",
    "\n",
    "train_scaled = pd.DataFrame(train_scaled)\n",
    "train_scaled.columns = train.columns\n",
    "\n",
    "test_scaled = pd.DataFrame(test_scaled)\n",
    "test_scaled.columns = test.columns\n",
    "\n",
    "# fit\n",
    "knClass = KNeighborsClassifier(n_neighbors=5)\n",
    "\n",
    "x_train_scaled = train_scaled.loc[:,[\"sepal_length\",\"sepal_width\",\"petal_length\",\"petal_width\"]]\n",
    "y_train_scaled = train.loc[:,[\"species\"]]\n",
    "\n",
    "x_test_scaled = test_scaled.loc[:,[\"sepal_length\",\"sepal_width\",\"petal_length\",\"petal_width\"]]\n",
    "y_test_scaled = test.loc[:,[\"species\"]]\n",
    "\n",
    "knn_model = knClass.fit(x_train_scaled, y_train_scaled)\n",
    "\n",
    "# score\n",
    "print(\"Train score: \", knn_model.score(x_train_scaled, y_train_scaled))\n",
    "print(\"Test score: \", knn_model.score(x_test_scaled, y_test_scaled))\n",
    "\n",
    "# make a prediction (need to scale values)\n",
    "values1 = [[5.9, 2.7, 4.2, 1.3, 1]]\n",
    "values1 = ss.transform(values1)\n",
    "values1 = [[values1[0][0], values1[0][1], values1[0][2], values1[0][3]]]\n",
    "print(knn_model.predict(values1))\n",
    "\n",
    "values2 = [[5.1, 3.5, 1.4, 0.2, 0]]\n",
    "values2 = ss.transform(values2)\n",
    "values2 = [[values2[0][0], values2[0][1], values2[0][2], values2[0][3]]]\n",
    "print(knn_model.predict(values2))"
   ]
  },
  {
   "cell_type": "markdown",
   "metadata": {},
   "source": [
    "### Confusion Matrix:\n",
    "\n",
    "If $C$ is the confusion matrix, then $C_{0,0}$ is the **true negatives** (predicted negative, actually negative), $C_{0,1}$ is the **false positives** (predicted positive, actually negative), $C_{1,0}$ is the **false negatives** (predicted negative, actually positive) and $C_{1,1}$ is the **true positives** (predicted positive, actually positive). As we want correct predictions, we want $C_{0,0}$ and $C_{1,1}$ (i.e. values on the main diagonal) to be as large as possible."
   ]
  },
  {
   "cell_type": "code",
   "execution_count": 15,
   "metadata": {},
   "outputs": [
    {
     "name": "stdout",
     "output_type": "stream",
     "text": [
      "[[ 8  0]\n",
      " [ 0 12]]\n"
     ]
    }
   ],
   "source": [
    "# create model with only 2 values\n",
    "f = ((exampleData[\"species\"] == 0) | (exampleData[\"species\"] == 1))\n",
    "exampleData2 = exampleData.where(f)\n",
    "exampleData2 = exampleData2.dropna()\n",
    "\n",
    "# split\n",
    "train, test = train_test_split(exampleData2, test_size=0.2)\n",
    "\n",
    "# scale to mean of 0 and variance of 1\n",
    "train_scaler = StandardScaler().fit(train)\n",
    "train_scaled = train_scaler.transform(train)\n",
    "\n",
    "test_scaler = StandardScaler().fit(test)\n",
    "test_scaled = test_scaler.transform(test)\n",
    "\n",
    "train_scaled = pd.DataFrame(train_scaled, columns=train.keys())\n",
    "test_scaled = pd.DataFrame(test_scaled, columns=test.keys())\n",
    "\n",
    "# fit\n",
    "knClass = KNeighborsClassifier(n_neighbors=5)\n",
    "\n",
    "x_train_scaled = train_scaled.loc[:,[\"sepal_length\",\"sepal_width\",\"petal_length\",\"petal_width\"]]\n",
    "y_train = train.loc[:,[\"species\"]]\n",
    "\n",
    "x_test_scaled = test_scaled.loc[:,[\"sepal_length\",\"sepal_width\",\"petal_length\",\"petal_width\"]]\n",
    "y_test = test.loc[:,[\"species\"]]\n",
    "\n",
    "knn_model = knClass.fit(x_train_scaled, y_train)\n",
    "\n",
    "# print confusion matrix\n",
    "print(confusion_matrix(y_test, knn_model.predict(x_test_scaled)))"
   ]
  },
  {
   "cell_type": "code",
   "execution_count": 13,
   "metadata": {},
   "outputs": [
    {
     "name": "stdout",
     "output_type": "stream",
     "text": [
      "                 PREDICTION\n",
      "                __0_____1__\n",
      "OBSERVATION  0 |  0    10 | 10\n",
      "             1 |  0    10 | 10\n",
      "               ------------\n",
      "                 0    20   20\n"
     ]
    }
   ],
   "source": [
    "# pretty print\n",
    "tn, fp, fn, tp = confusion_matrix(test.iloc[:,-1], knn_model.predict(test.iloc[:,:-1])).ravel()\n",
    "print(\"                 PREDICTION\")\n",
    "print(\"                __0_____1__\")\n",
    "print(\"OBSERVATION  0 |\", str(tn).rjust(2), \"  \", str(fp).rjust(2), \"|\", tn+fp)\n",
    "print(\"             1 |\", str(fn).rjust(2), \"  \", str(tp).rjust(2), \"|\", fn+tp)\n",
    "print(\"               ------------\")\n",
    "print(\"                \", tn+fn, \"  \", fp+tp, \" \", tn+fp+fn+tp)"
   ]
  },
  {
   "cell_type": "code",
   "execution_count": 6,
   "metadata": {},
   "outputs": [
    {
     "data": {
      "image/png": "[encoded data removed]",
      "text/plain": [
       "<Figure size 432x288 with 2 Axes>"
      ]
     },
     "metadata": {
      "needs_background": "light"
     },
     "output_type": "display_data"
    }
   ],
   "source": [
    "# plot\n",
    "disp = plot_confusion_matrix(knn_model, x_test_scaled, y_test_scaled,\n",
    "                             display_labels=pd.unique(exampleData[\"species\"]),\n",
    "                             cmap=plt.cm.Blues)\n",
    "disp.ax_.set_title(\"Confusion matrix\")\n",
    "plt.show()"
   ]
  },
  {
   "cell_type": "markdown",
   "metadata": {},
   "source": [
    "- **Recall**: TP / (TP + FN). This describes the proportion of actual-positive observations that were correctly classified.\n",
    "- **Precision**: TP / (TP + FP). This is the percentage of positive-predicted observations that were correctly classified.\n",
    "- **Accuracy**: (TP + TN) / (TP+FP+FN+TN). This is the percentage of correctly classified observations in total. This is the same as the `model.score()` function that we used earlier.\n",
    "- **F1**: (2 * Recall * Prediction) / (Recall + Prediction). This is a weighted average of recall and precision, and generally a better metric than accuracy for data that is unbalanced with respect to its target labels."
   ]
  },
  {
   "cell_type": "code",
   "execution_count": 63,
   "metadata": {},
   "outputs": [
    {
     "name": "stdout",
     "output_type": "stream",
     "text": [
      "Recall:    1.0 \n",
      "Precision: 0.5 \n",
      "Accuracy:  0.5 \n",
      "F1 Score:  0.6666666666666666\n"
     ]
    }
   ],
   "source": [
    "# print analytics\n",
    "recall = tp/(tp+fn)\n",
    "prec = tp/(tp+fp)\n",
    "acc = (tp+tn)/(tp+fp+fn+tn)\n",
    "f1 = (2*recall*prec)/(recall+prec)\n",
    "print(\"Recall:   \", recall,\n",
    "    \"\\nPrecision:\", prec,\n",
    "    \"\\nAccuracy: \", acc,\n",
    "    \"\\nF1 Score: \", f1)"
   ]
  },
  {
   "cell_type": "code",
   "execution_count": null,
   "metadata": {},
   "outputs": [],
   "source": []
  }
 ],
 "metadata": {
  "kernelspec": {
   "display_name": "Python 3",
   "language": "python",
   "name": "python3"
  },
  "language_info": {
   "codemirror_mode": {
    "name": "ipython",
    "version": 3
   },
   "file_extension": ".py",
   "mimetype": "text/x-python",
   "name": "python",
   "nbconvert_exporter": "python",
   "pygments_lexer": "ipython3",
   "version": "3.8.5"
  }
 },
 "nbformat": 4,
 "nbformat_minor": 4
}
